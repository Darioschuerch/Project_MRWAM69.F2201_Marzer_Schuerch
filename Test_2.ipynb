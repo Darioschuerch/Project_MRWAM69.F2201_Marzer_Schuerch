{
 "cells": [
  {
   "cell_type": "code",
   "execution_count": 1,
   "id": "19b5b455",
   "metadata": {},
   "outputs": [
    {
     "name": "stdout",
     "output_type": "stream",
     "text": [
      "fucking shit is working now\n"
     ]
    }
   ],
   "source": [
    "print(\"fucking shit is working now\")"
   ]
  },
  {
   "cell_type": "code",
   "execution_count": 2,
   "id": "3b13a16e",
   "metadata": {},
   "outputs": [
    {
     "ename": "NameError",
     "evalue": "name 'Changes' is not defined",
     "output_type": "error",
     "traceback": [
      "\u001b[1;31m---------------------------------------------------------------------------\u001b[0m",
      "\u001b[1;31mNameError\u001b[0m                                 Traceback (most recent call last)",
      "\u001b[1;32m~\\AppData\\Local\\Temp/ipykernel_32524/2403878203.py\u001b[0m in \u001b[0;36m<module>\u001b[1;34m\u001b[0m\n\u001b[1;32m----> 1\u001b[1;33m \u001b[0mChanges\u001b[0m\u001b[1;33m\u001b[0m\u001b[1;33m\u001b[0m\u001b[0m\n\u001b[0m",
      "\u001b[1;31mNameError\u001b[0m: name 'Changes' is not defined"
     ]
    }
   ],
   "source": [
    "Changes\n"
   ]
  },
  {
   "cell_type": "code",
   "execution_count": null,
   "id": "e3334f98",
   "metadata": {},
   "outputs": [],
   "source": [
    "Changes"
   ]
  }
 ],
 "metadata": {
  "kernelspec": {
   "display_name": "Python 3 (ipykernel)",
   "language": "python",
   "name": "python3"
  },
  "language_info": {
   "codemirror_mode": {
    "name": "ipython",
    "version": 3
   },
   "file_extension": ".py",
   "mimetype": "text/x-python",
   "name": "python",
   "nbconvert_exporter": "python",
   "pygments_lexer": "ipython3",
   "version": "3.9.7"
  }
 },
 "nbformat": 4,
 "nbformat_minor": 5
}
